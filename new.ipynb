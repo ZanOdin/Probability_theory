{
 "cells": [
  {
   "cell_type": "markdown",
   "id": "0a11e40c",
   "metadata": {},
   "source": [
    "### Задача 1"
   ]
  },
  {
   "cell_type": "code",
   "execution_count": 11,
   "id": "0ec1f0ef",
   "metadata": {},
   "outputs": [],
   "source": [
    "# Список\n",
    "new_list = [100, 80, 75, 77, 89, 33, 45, 25, 65, 17, 30, 230, 24, 57, 55, 70, 75, 65, 84, 90, 150]\n",
    "\n",
    "def sum_list(list):\n",
    "    \"\"\"Суммирование всех элементов списка\"\"\"\n",
    "    n_sum = 0\n",
    "    for i in list:\n",
    "        n_sum += i\n",
    "    return n_sum"
   ]
  },
  {
   "cell_type": "code",
   "execution_count": 13,
   "id": "ad23c3f3",
   "metadata": {},
   "outputs": [
    {
     "name": "stdout",
     "output_type": "stream",
     "text": [
      "Ответ:  47.34795213553139\n"
     ]
    }
   ],
   "source": [
    "def get_dis(list):\n",
    "    \"\"\" Нахождение результата по формуле квадратичного отклонения \"\"\"\n",
    "    d_sum = 0\n",
    "    result = 0\n",
    "    # Нахождение среднего значения списка\n",
    "    list_aver = sum_list(list) / len(list)\n",
    "    for i in list:\n",
    "        d_sum += (i - list_aver)**2\n",
    "        # Результат - корень из полученного значения \n",
    "    return (d_sum / (len(list) - 1))**0.5\n",
    "     \n",
    "answ = get_dis(new_list)\n",
    "print(\"Ответ: \", answ)"
   ]
  },
  {
   "cell_type": "markdown",
   "id": "d332c51e",
   "metadata": {},
   "source": [
    "### Задача 2"
   ]
  },
  {
   "cell_type": "markdown",
   "id": "41a15c9d",
   "metadata": {},
   "source": [
    "Задача 2\n",
    "Найдите число выбросов в выборке из задачи 1. Для определения выбросов используйте методику как при построении “усов” в boxplot, однако, как и в задаче 1, пользоваться можно только встроенными функциями и структурами данных.\n"
   ]
  },
  {
   "cell_type": "code",
   "execution_count": 65,
   "id": "27ee281e",
   "metadata": {},
   "outputs": [
    {
     "name": "stdout",
     "output_type": "stream",
     "text": [
      "[17, 24, 25, 30, 33, 45, 55, 57, 65, 65, 70, 75, 75, 77, 80, 84, 89, 90, 100, 150, 230]\n"
     ]
    }
   ],
   "source": [
    "# Для начала упорядочим список по возрастанию\n",
    "def sort_list(list):\n",
    "    i = 0\n",
    "    a = 0\n",
    "    while i < (len(list) - 1):\n",
    "        if list[i+1] < list[i]:\n",
    "            a = list[i]\n",
    "            list[i] = list[i+1]\n",
    "            list[i+1] = a\n",
    "            i = 0\n",
    "        else:\n",
    "            i += 1\n",
    "    return list\n",
    "sorted_list = sort_list(new_list)\n",
    "print([elem for elem in sorted_list])        "
   ]
  },
  {
   "cell_type": "code",
   "execution_count": 79,
   "id": "306e95a5",
   "metadata": {},
   "outputs": [
    {
     "data": {
      "text/plain": [
       "(70, 45, 84)"
      ]
     },
     "execution_count": 79,
     "metadata": {},
     "output_type": "execute_result"
    }
   ],
   "source": [
    "# Вычислим медиану\n",
    "list_m = sorted_list[len(sorted_list) // 2]\n",
    "\n",
    "# Вычислим нижний квантиль\n",
    "def get_q1(list):\n",
    "    list_q1 = [elem for elem in list if elem < list[len(list) // 2]]\n",
    "    i = len(list_q1) // 2\n",
    "    result = list_q1[i] \n",
    "    return result\n",
    "\n",
    "# Вычислим верхний квантиль\n",
    "def get_q3(list):\n",
    "    list_q3 = [elem for elem in list if elem > list[len(list) // 2]]\n",
    "    i = len(list_q3) // 2\n",
    "    result = list_q3[i-1]\n",
    "    return result\n",
    "\n",
    "list_q1 = get_q1(sorted_list)\n",
    "list_q3 = get_q3(sorted_list)\n",
    "list_m, list_q1, list_q3"
   ]
  },
  {
   "cell_type": "code",
   "execution_count": 90,
   "id": "7d709283",
   "metadata": {},
   "outputs": [
    {
     "data": {
      "text/plain": [
       "(58.5, -26.25, 155.25)"
      ]
     },
     "execution_count": 90,
     "metadata": {},
     "output_type": "execute_result"
    }
   ],
   "source": [
    "# Вычислим межквантильный диапазон\n",
    "q_d = 1.5 * (list_q3 - list_q1)\n",
    "\n",
    "# Найдем внутренние границы значений\n",
    "x1 = list_q1 - q_n\n",
    "x2 = list_q3 + q_n\n",
    "\n",
    "q_d, x1, x2"
   ]
  },
  {
   "cell_type": "code",
   "execution_count": 91,
   "id": "42faac62",
   "metadata": {},
   "outputs": [
    {
     "data": {
      "text/plain": [
       "([230], 1)"
      ]
     },
     "execution_count": 91,
     "metadata": {},
     "output_type": "execute_result"
    }
   ],
   "source": [
    "# Выведем элементы, которые не входят во внутренние границы и количество\n",
    "main_res = [elem for elem in new_list if (elem <= x1) or (elem >= x2)]\n",
    "main_res, len(main_res)"
   ]
  },
  {
   "cell_type": "code",
   "execution_count": 86,
   "id": "6e5e8bad",
   "metadata": {},
   "outputs": [],
   "source": [
    "# Ответ не совпал, выполню проверку"
   ]
  },
  {
   "cell_type": "code",
   "execution_count": 87,
   "id": "81063bf8",
   "metadata": {},
   "outputs": [],
   "source": [
    "import numpy as np\n",
    "import matplotlib.pyplot as plt"
   ]
  },
  {
   "cell_type": "code",
   "execution_count": 88,
   "id": "978fb76a",
   "metadata": {},
   "outputs": [
    {
     "data": {
      "text/plain": [
       "(70.0, 45.0, 84.0)"
      ]
     },
     "execution_count": 88,
     "metadata": {},
     "output_type": "execute_result"
    }
   ],
   "source": [
    "np.quantile(sorted_list, 0.5), np.quantile(sorted_list, 0.25), np.quantile(sorted_list, 0.75)"
   ]
  },
  {
   "cell_type": "code",
   "execution_count": 89,
   "id": "d20c8300",
   "metadata": {},
   "outputs": [
    {
     "data": {
      "image/png": "[encoded data removed]",
      "text/plain": [
       "<Figure size 432x288 with 1 Axes>"
      ]
     },
     "metadata": {
      "needs_background": "light"
     },
     "output_type": "display_data"
    }
   ],
   "source": [
    "plt.boxplot(sorted_list)\n",
    "plt.show()"
   ]
  },
  {
   "cell_type": "code",
   "execution_count": 92,
   "id": "59c9ff7d",
   "metadata": {},
   "outputs": [],
   "source": [
    "# BoxPlot показывает два выброса, у меня получился один, значение 150 почему-то\n",
    "# не захвачено, жду проверки :)"
   ]
  },
  {
   "cell_type": "markdown",
   "id": "03516c35",
   "metadata": {},
   "source": [
    "### Задача 3"
   ]
  },
  {
   "cell_type": "markdown",
   "id": "4c549a57",
   "metadata": {},
   "source": [
    "В университет на факультет A поступило 100 человек, на факультет B - 90 человек и на факультет C - 45 человек. Вероятность того, что студент с факультета A сдаст первую сессию, равна 0.6. Для студента с факультета B эта вероятность равна 0.7, а для студента с факультета C - 0.8. Случайным образом выбирается студент, сдавший первую сессию. Какое событие наиболее вероятно:\n",
    "\n",
    "студент учится на факультете A,\n",
    "студент учится на факультете B,\n",
    "студент учится на факультете C?"
   ]
  },
  {
   "cell_type": "code",
   "execution_count": 9,
   "id": "71f5cce9",
   "metadata": {},
   "outputs": [
    {
     "name": "stdout",
     "output_type": "stream",
     "text": [
      "0.425531914893617 0.3829787234042553 0.19148936170212766\n"
     ]
    }
   ],
   "source": [
    "# Вероятности для каждого факультета\n",
    "A1 = 0.6\n",
    "A2 = 0.7\n",
    "A3 = 0.8\n",
    "\n",
    "# количество учащихся в каждом факультете\n",
    "A_n = 100\n",
    "B_n = 90\n",
    "C_n = 45\n",
    "\n",
    "# общее количество учащихся\n",
    "N = 100 + 90 + 45\n",
    "\n",
    "# Вероятности для каждого факультета, что случайно выбранный студент именно с него\n",
    "Xn_A = A_n / N\n",
    "Xn_B = B_n / N\n",
    "Xn_C = C_n / N\n",
    "print(Xn_A, Xn_B, Xn_C)"
   ]
  },
  {
   "cell_type": "code",
   "execution_count": 10,
   "id": "057c3c29",
   "metadata": {},
   "outputs": [
    {
     "name": "stdout",
     "output_type": "stream",
     "text": [
      "25.53 26.81 15.32\n"
     ]
    }
   ],
   "source": [
    "# Так как наши вероятности зависимы, найдем искомую вероятность, перемножив их друг \n",
    "# на друга\n",
    "P_a = round((Xn_A * A1) * 100, 2)\n",
    "P_b = round((Xn_B * A2) * 100, 2)\n",
    "P_c = round((Xn_C * A3) * 100, 2)\n",
    "print(P_a, P_b, P_c)"
   ]
  },
  {
   "cell_type": "markdown",
   "id": "345e6c71",
   "metadata": {},
   "source": [
    "#### Наиболее вероятно событие №2"
   ]
  }
 ],
 "metadata": {
  "kernelspec": {
   "display_name": "Python 3",
   "language": "python",
   "name": "python3"
  },
  "language_info": {
   "codemirror_mode": {
    "name": "ipython",
    "version": 3
   },
   "file_extension": ".py",
   "mimetype": "text/x-python",
   "name": "python",
   "nbconvert_exporter": "python",
   "pygments_lexer": "ipython3",
   "version": "3.8.8"
  }
 },
 "nbformat": 4,
 "nbformat_minor": 5
}
